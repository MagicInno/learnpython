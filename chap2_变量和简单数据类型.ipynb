{
 "cells": [
  {
   "cell_type": "code",
   "execution_count": 1,
   "id": "b15f35bb-42cf-484f-a2bc-106025d90e63",
   "metadata": {},
   "outputs": [
    {
     "name": "stdout",
     "output_type": "stream",
     "text": [
      "hello,world\n"
     ]
    }
   ],
   "source": [
    "print('hello,world')"
   ]
  },
  {
   "cell_type": "code",
   "execution_count": 2,
   "id": "dbd67392-956d-4c1d-9498-a0d29cd4b7b5",
   "metadata": {},
   "outputs": [
    {
     "name": "stdout",
     "output_type": "stream",
     "text": [
      "hello world\n"
     ]
    }
   ],
   "source": [
    "# 使用变量\n",
    "message = \"hello world\"\n",
    "print(message)"
   ]
  },
  {
   "cell_type": "code",
   "execution_count": 3,
   "id": "9cc268c9-82ce-4d87-9ef4-53a98bd6c7bc",
   "metadata": {},
   "outputs": [
    {
     "name": "stdout",
     "output_type": "stream",
     "text": [
      "hello world\n",
      "hello crash course world!\n"
     ]
    }
   ],
   "source": [
    "# 使用变量\n",
    "message = \"hello world\"\n",
    "print(message)\n",
    "\n",
    "message = \"hello crash course world!\"\n",
    "print(message)"
   ]
  },
  {
   "cell_type": "markdown",
   "id": "d359e656-dfde-4b0a-b7cc-a7bcee74a29c",
   "metadata": {},
   "source": [
    "变量的命名和使用\n",
    "1. 只能包含字母数字下划线，数字不能打头\n",
    "2. 变量名不能包含空格，可用下划线\n",
    "3. 不要将python关键字和函数名作为变量名\n",
    "4. 应该简短又有描述性\n",
    "5. 慎用l和大写字母O"
   ]
  },
  {
   "cell_type": "code",
   "execution_count": 4,
   "id": "3a73100c-be8c-4e8b-8cfe-22bdc3688383",
   "metadata": {},
   "outputs": [
    {
     "name": "stdout",
     "output_type": "stream",
     "text": [
      "yuumi is good\n"
     ]
    }
   ],
   "source": [
    "# 练习1\n",
    "message = \"yuumi is good\"\n",
    "print(message)"
   ]
  },
  {
   "cell_type": "code",
   "execution_count": 5,
   "id": "34ec34c5-a5f8-4001-8673-3f79639c6a9f",
   "metadata": {},
   "outputs": [
    {
     "name": "stdout",
     "output_type": "stream",
     "text": [
      "yuumi is good\n",
      "yuumi works hard\n"
     ]
    }
   ],
   "source": [
    "message = \"yuumi is good\"\n",
    "print(message)\n",
    "\n",
    "message = \"yuumi works hard\"\n",
    "print(message)"
   ]
  },
  {
   "cell_type": "markdown",
   "id": "faf8736a-e19c-4c8c-8053-4ab8bc9f8c11",
   "metadata": {},
   "source": [
    "字符串\n",
    "“”\n",
    "‘’"
   ]
  },
  {
   "cell_type": "code",
   "execution_count": 6,
   "id": "530f8c4b-b060-4563-bb8a-be8704cf8ce2",
   "metadata": {},
   "outputs": [
    {
     "name": "stdout",
     "output_type": "stream",
     "text": [
      "Ada Lovelace\n"
     ]
    }
   ],
   "source": [
    "# 使用方法修改字符串的大小写\n",
    "name = \"ada lovelace\"\n",
    "print(name.title())"
   ]
  },
  {
   "cell_type": "code",
   "execution_count": 7,
   "id": "be179bf6-a52d-4644-889b-1826b664a845",
   "metadata": {},
   "outputs": [
    {
     "name": "stdout",
     "output_type": "stream",
     "text": [
      "ADA LOVELACE\n",
      "ada lovelace\n"
     ]
    }
   ],
   "source": [
    "name = \"Ada Lovelace\"\n",
    "print(name.upper())\n",
    "print(name.lower())"
   ]
  },
  {
   "cell_type": "code",
   "execution_count": 10,
   "id": "0b09c7dc-b648-4bc7-b4fb-23ac7ebb6656",
   "metadata": {},
   "outputs": [
    {
     "name": "stdout",
     "output_type": "stream",
     "text": [
      "ada lovelace\n"
     ]
    }
   ],
   "source": [
    "# 合并字符串\n",
    "first_name = \"ada\"\n",
    "last_name = \"lovelace\"\n",
    "full_name = first_name +\" \"+ last_name\n",
    "print(full_name)"
   ]
  },
  {
   "cell_type": "code",
   "execution_count": 14,
   "id": "d25faa98-2154-4fe2-b16f-83b0ff7e878a",
   "metadata": {},
   "outputs": [
    {
     "name": "stdout",
     "output_type": "stream",
     "text": [
      "Hello, Ada Lovelace!\n"
     ]
    }
   ],
   "source": [
    "print(\"Hello, \" + full_name.title() +\"!\")"
   ]
  },
  {
   "cell_type": "code",
   "execution_count": 15,
   "id": "46177695-38cf-4a2c-a0dc-fdbcc9a31117",
   "metadata": {},
   "outputs": [
    {
     "name": "stdout",
     "output_type": "stream",
     "text": [
      "Hello, Ada Lovelace!\n"
     ]
    }
   ],
   "source": [
    "message = \"Hello, \" + full_name.title() + \"!\"\n",
    "print(message)"
   ]
  },
  {
   "cell_type": "code",
   "execution_count": 16,
   "id": "f5c32e1b-2b12-456a-8c93-64564826f131",
   "metadata": {},
   "outputs": [
    {
     "name": "stdout",
     "output_type": "stream",
     "text": [
      "python\n"
     ]
    }
   ],
   "source": [
    "# 使用制表符或换行符来添加空白\n",
    "print(\"python\")"
   ]
  },
  {
   "cell_type": "code",
   "execution_count": 17,
   "id": "1509e151-7d25-4d3a-a176-2eb3c2242f64",
   "metadata": {},
   "outputs": [
    {
     "name": "stdout",
     "output_type": "stream",
     "text": [
      "\tpython\n"
     ]
    }
   ],
   "source": [
    "print('\\tpython')"
   ]
  },
  {
   "cell_type": "code",
   "execution_count": 18,
   "id": "03145ef6-bac0-4811-b4ce-ae4fd60c3741",
   "metadata": {},
   "outputs": [
    {
     "name": "stdout",
     "output_type": "stream",
     "text": [
      "Languages:\n",
      "Python\n",
      "Java\n",
      "C\n"
     ]
    }
   ],
   "source": [
    "# 添加换行符\n",
    "print('Languages:\\nPython\\nJava\\nC')"
   ]
  },
  {
   "cell_type": "code",
   "execution_count": 19,
   "id": "199b680c-0100-4af1-bbdd-52ce2a0c6fa3",
   "metadata": {},
   "outputs": [
    {
     "name": "stdout",
     "output_type": "stream",
     "text": [
      "Language:\n",
      "\tPython\n",
      "\tJave\n",
      "\tC\n"
     ]
    }
   ],
   "source": [
    "# 同时包含制表符和换行符\n",
    "print('Language:\\n\\tPython\\n\\tJave\\n\\tC')"
   ]
  },
  {
   "cell_type": "code",
   "execution_count": 21,
   "id": "6a6305e3-c8df-414c-a5d3-8e972043cf3a",
   "metadata": {},
   "outputs": [
    {
     "data": {
      "text/plain": [
       "'python '"
      ]
     },
     "execution_count": 21,
     "metadata": {},
     "output_type": "execute_result"
    }
   ],
   "source": [
    "# 删除空白\n",
    "favorite_language='python '\n",
    "favorite_language"
   ]
  },
  {
   "cell_type": "code",
   "execution_count": 22,
   "id": "b4a427b7-52ac-4c83-82a1-985e72e87a6e",
   "metadata": {},
   "outputs": [
    {
     "data": {
      "text/plain": [
       "'python'"
      ]
     },
     "execution_count": 22,
     "metadata": {},
     "output_type": "execute_result"
    }
   ],
   "source": [
    "favorite_language.rstrip()"
   ]
  },
  {
   "cell_type": "code",
   "execution_count": 23,
   "id": "1fa5716e-3500-47b4-bca1-ae22295d3525",
   "metadata": {},
   "outputs": [
    {
     "data": {
      "text/plain": [
       "'python '"
      ]
     },
     "execution_count": 23,
     "metadata": {},
     "output_type": "execute_result"
    }
   ],
   "source": [
    "favorite_language"
   ]
  },
  {
   "cell_type": "code",
   "execution_count": 26,
   "id": "36e2028b-3f5b-4526-b57e-97935ca2bf6c",
   "metadata": {},
   "outputs": [
    {
     "data": {
      "text/plain": [
       "'python'"
      ]
     },
     "execution_count": 26,
     "metadata": {},
     "output_type": "execute_result"
    }
   ],
   "source": [
    "favorite_language=favorite_language.rstrip()\n",
    "favorite_language"
   ]
  },
  {
   "cell_type": "code",
   "execution_count": 29,
   "id": "3ee61df3-1b7c-4fde-8edb-3772f29d9eac",
   "metadata": {},
   "outputs": [
    {
     "data": {
      "text/plain": [
       "' python'"
      ]
     },
     "execution_count": 29,
     "metadata": {},
     "output_type": "execute_result"
    }
   ],
   "source": [
    "favorite_language = ' python '\n",
    "favorite_language.rstrip()"
   ]
  },
  {
   "cell_type": "code",
   "execution_count": 30,
   "id": "ea54b9a0-e3eb-4fe5-a336-390171356310",
   "metadata": {},
   "outputs": [
    {
     "data": {
      "text/plain": [
       "'python '"
      ]
     },
     "execution_count": 30,
     "metadata": {},
     "output_type": "execute_result"
    }
   ],
   "source": [
    "favorite_language.lstrip()"
   ]
  },
  {
   "cell_type": "code",
   "execution_count": 31,
   "id": "a6c153d1-3c0d-4b6c-a05e-d2eb7b0702d5",
   "metadata": {},
   "outputs": [
    {
     "data": {
      "text/plain": [
       "'python'"
      ]
     },
     "execution_count": 31,
     "metadata": {},
     "output_type": "execute_result"
    }
   ],
   "source": [
    "favorite_language.strip()"
   ]
  },
  {
   "cell_type": "code",
   "execution_count": 32,
   "id": "68d67b45-e33c-4d23-8bc5-e081a5268675",
   "metadata": {},
   "outputs": [
    {
     "ename": "SyntaxError",
     "evalue": "unterminated string literal (detected at line 2) (3399216471.py, line 2)",
     "output_type": "error",
     "traceback": [
      "\u001b[0;36m  Cell \u001b[0;32mIn[32], line 2\u001b[0;36m\u001b[0m\n\u001b[0;31m    message = 'one of  python's ...'\u001b[0m\n\u001b[0m                                   ^\u001b[0m\n\u001b[0;31mSyntaxError\u001b[0m\u001b[0;31m:\u001b[0m unterminated string literal (detected at line 2)\n"
     ]
    }
   ],
   "source": [
    "# '' \"\" 正确使用\n",
    "message = 'one of  python's ...'\n",
    "print(message)"
   ]
  },
  {
   "cell_type": "code",
   "execution_count": 35,
   "id": "b46ee8fa-c627-4d92-9bbd-f8dee7f04d8b",
   "metadata": {},
   "outputs": [
    {
     "name": "stdout",
     "output_type": "stream",
     "text": [
      "Hello Eric, would you like to learn some Python today?\n"
     ]
    }
   ],
   "source": [
    "name = 'Eric'\n",
    "print(\"Hello \" + name + \", would you like to learn some Python today?\")"
   ]
  },
  {
   "cell_type": "code",
   "execution_count": 45,
   "id": "2ca4fcb1-4640-4980-a1c2-1b8c138885db",
   "metadata": {},
   "outputs": [
    {
     "name": "stdout",
     "output_type": "stream",
     "text": [
      "Eric ERIC eric\n"
     ]
    }
   ],
   "source": [
    "name = 'Eric'\n",
    "print(name.title(),name.upper(),name.lower())"
   ]
  },
  {
   "cell_type": "code",
   "execution_count": 49,
   "id": "bdd556f3-7ab7-4153-ad53-0d4151fb6623",
   "metadata": {},
   "outputs": [
    {
     "name": "stdout",
     "output_type": "stream",
     "text": [
      "yuumi said \"ill get everything i want\"\n"
     ]
    }
   ],
   "source": [
    "name = 'yuumi'\n",
    "word = 'said \"ill get everything i want\"'\n",
    "print(name + \" \"+word)"
   ]
  },
  {
   "cell_type": "code",
   "execution_count": 50,
   "id": "8d6bafc0-7b42-4105-b1a4-51e628b76fe4",
   "metadata": {},
   "outputs": [
    {
     "data": {
      "text/plain": [
       "'yuumi '"
      ]
     },
     "execution_count": 50,
     "metadata": {},
     "output_type": "execute_result"
    }
   ],
   "source": [
    "name = ' yuumi '\n",
    "name.lstrip()"
   ]
  },
  {
   "cell_type": "code",
   "execution_count": 55,
   "id": "77fc0cdc-2b34-403f-a9a9-949251f9bd4d",
   "metadata": {},
   "outputs": [
    {
     "name": "stdout",
     "output_type": "stream",
     "text": [
      "yuumi is a \n",
      "\tstudent\n",
      "\tAI engineer\n"
     ]
    }
   ],
   "source": [
    "print(name.strip() + \" is a \" + \"\\n\\tstudent\"+\"\\n\\tAI engineer\")"
   ]
  },
  {
   "cell_type": "code",
   "execution_count": 56,
   "id": "d9f7072f-c1c5-46a0-8408-d31af2a54f9a",
   "metadata": {},
   "outputs": [
    {
     "name": "stdout",
     "output_type": "stream",
     "text": [
      "yuumi yuumi   yuumi\n"
     ]
    }
   ],
   "source": [
    "print(name.strip(),name.lstrip(),name.rstrip())"
   ]
  },
  {
   "cell_type": "code",
   "execution_count": 58,
   "id": "b46fb26b-b761-4302-b540-b2d8826aa0f3",
   "metadata": {},
   "outputs": [
    {
     "data": {
      "text/plain": [
       "1"
      ]
     },
     "execution_count": 58,
     "metadata": {},
     "output_type": "execute_result"
    }
   ],
   "source": [
    "#数字。整数\n",
    "2+3\n",
    "3-2"
   ]
  },
  {
   "cell_type": "code",
   "execution_count": 59,
   "id": "6897dc1b-8bdf-4826-a834-2da2dc524fcc",
   "metadata": {},
   "outputs": [
    {
     "data": {
      "text/plain": [
       "0.30000000000000004"
      ]
     },
     "execution_count": 59,
     "metadata": {},
     "output_type": "execute_result"
    }
   ],
   "source": [
    "# 浮点数\n",
    "0.1+0.2"
   ]
  },
  {
   "cell_type": "code",
   "execution_count": 60,
   "id": "bc28cb69-725b-4d61-89f9-afd9018bd53c",
   "metadata": {},
   "outputs": [
    {
     "ename": "TypeError",
     "evalue": "can only concatenate str (not \"int\") to str",
     "output_type": "error",
     "traceback": [
      "\u001b[0;31m---------------------------------------------------------------------------\u001b[0m",
      "\u001b[0;31mTypeError\u001b[0m                                 Traceback (most recent call last)",
      "Cell \u001b[0;32mIn[60], line 2\u001b[0m\n\u001b[1;32m      1\u001b[0m age \u001b[38;5;241m=\u001b[39m \u001b[38;5;241m23\u001b[39m\n\u001b[0;32m----> 2\u001b[0m message \u001b[38;5;241m=\u001b[39m \u001b[38;5;124;43m\"\u001b[39;49m\u001b[38;5;124;43mhappy\u001b[39;49m\u001b[38;5;124;43m\"\u001b[39;49m\u001b[43m \u001b[49m\u001b[38;5;241;43m+\u001b[39;49m\u001b[43m \u001b[49m\u001b[43mage\u001b[49m \u001b[38;5;241m+\u001b[39m \u001b[38;5;124m\"\u001b[39m\u001b[38;5;124mrd Birthday!\u001b[39m\u001b[38;5;124m\"\u001b[39m\n\u001b[1;32m      3\u001b[0m \u001b[38;5;28mprint\u001b[39m(message)\n",
      "\u001b[0;31mTypeError\u001b[0m: can only concatenate str (not \"int\") to str"
     ]
    }
   ],
   "source": [
    "age = 23\n",
    "message = \"happy\" + age + \"rd Birthday!\"\n",
    "print(message)"
   ]
  },
  {
   "cell_type": "code",
   "execution_count": 62,
   "id": "59e752a8-bbd5-48e9-b0b1-8eae4d9edb45",
   "metadata": {},
   "outputs": [
    {
     "name": "stdout",
     "output_type": "stream",
     "text": [
      "happy 23rd Birthday\n"
     ]
    }
   ],
   "source": [
    "age = 23\n",
    "message = \"happy \" + str(age) + \"rd Birthday\"\n",
    "print(message)"
   ]
  },
  {
   "cell_type": "code",
   "execution_count": 63,
   "id": "51e89b58-32ee-462b-90ee-a87dc3d1ce5d",
   "metadata": {},
   "outputs": [
    {
     "name": "stdout",
     "output_type": "stream",
     "text": [
      "8\n",
      "8\n",
      "8\n",
      "8.0\n"
     ]
    }
   ],
   "source": [
    "print(5+3)\n",
    "print(10-2)\n",
    "print(2*4)\n",
    "print(40/5)"
   ]
  },
  {
   "cell_type": "code",
   "execution_count": 65,
   "id": "806cf87d-99a2-410e-b51f-adbb750455d5",
   "metadata": {},
   "outputs": [
    {
     "name": "stdout",
     "output_type": "stream",
     "text": [
      "my lucky numbers are 7 and 9\n"
     ]
    }
   ],
   "source": [
    "luky_num1 = 7\n",
    "luky_num2 = 9\n",
    "message = \"my lucky numbers are \" + str(7) + \" and \" + str(9)\n",
    "print(message)"
   ]
  },
  {
   "cell_type": "code",
   "execution_count": 66,
   "id": "38706ed8-2c52-439a-a6a1-83e1a3e5d8ad",
   "metadata": {},
   "outputs": [
    {
     "name": "stdout",
     "output_type": "stream",
     "text": [
      "The Zen of Python, by Tim Peters\n",
      "\n",
      "Beautiful is better than ugly.\n",
      "Explicit is better than implicit.\n",
      "Simple is better than complex.\n",
      "Complex is better than complicated.\n",
      "Flat is better than nested.\n",
      "Sparse is better than dense.\n",
      "Readability counts.\n",
      "Special cases aren't special enough to break the rules.\n",
      "Although practicality beats purity.\n",
      "Errors should never pass silently.\n",
      "Unless explicitly silenced.\n",
      "In the face of ambiguity, refuse the temptation to guess.\n",
      "There should be one-- and preferably only one --obvious way to do it.\n",
      "Although that way may not be obvious at first unless you're Dutch.\n",
      "Now is better than never.\n",
      "Although never is often better than *right* now.\n",
      "If the implementation is hard to explain, it's a bad idea.\n",
      "If the implementation is easy to explain, it may be a good idea.\n",
      "Namespaces are one honking great idea -- let's do more of those!\n"
     ]
    }
   ],
   "source": [
    "# 注释\n",
    "import this"
   ]
  },
  {
   "cell_type": "code",
   "execution_count": null,
   "id": "149fd7aa-009e-48b1-adc4-e484e0feff79",
   "metadata": {},
   "outputs": [],
   "source": []
  }
 ],
 "metadata": {
  "kernelspec": {
   "display_name": "Python 3 (ipykernel)",
   "language": "python",
   "name": "python3"
  },
  "language_info": {
   "codemirror_mode": {
    "name": "ipython",
    "version": 3
   },
   "file_extension": ".py",
   "mimetype": "text/x-python",
   "name": "python",
   "nbconvert_exporter": "python",
   "pygments_lexer": "ipython3",
   "version": "3.12.5"
  }
 },
 "nbformat": 4,
 "nbformat_minor": 5
}
